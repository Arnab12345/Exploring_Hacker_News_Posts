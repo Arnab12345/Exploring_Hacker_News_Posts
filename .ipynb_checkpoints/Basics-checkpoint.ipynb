{
 "cells": [
  {
   "cell_type": "markdown",
   "metadata": {
    "collapsed": true
   },
   "source": [
    "# Exploring Hacker News Posts"
   ]
  },
  {
   "cell_type": "markdown",
   "metadata": {},
   "source": [
    "- Introduction:\n",
    "Hacker News is a popular technology site started by the startup incubator Y Combinator, where user-submitted stories (known as \"posts\") are voted and commented upon, similar to reddit. \n",
    "\n",
    "We're specifically interested in posts whose titles begin with either **Ask HN** or **Show HN**. Users submit **Ask HN** posts to ask the Hacker News community a specific question. And users submit **Show HN** posts to show the Hacker News community a project, product, or just generally something interesting."
   ]
  },
  {
   "cell_type": "markdown",
   "metadata": {
    "collapsed": true
   },
   "source": [
    "First we load the dataset **hacker_news.csv** and display first 5 rows."
   ]
  },
  {
   "cell_type": "code",
   "execution_count": 1,
   "metadata": {
    "collapsed": true
   },
   "outputs": [],
   "source": [
    "from csv import reader\n"
   ]
  },
  {
   "cell_type": "markdown",
   "metadata": {},
   "source": [
    "We store the dataset as lists of lists in the variable **hn** and the header in the variable **header_hn**."
   ]
  },
  {
   "cell_type": "code",
   "execution_count": 2,
   "metadata": {
    "collapsed": true
   },
   "outputs": [],
   "source": [
    "opened_file= open(\"hacker_news.csv\")\n",
    "read_file=reader(opened_file)\n",
    "hn=list(read_file)\n",
    "header_hn=hn[0]\n",
    "hn=hn[1:]"
   ]
  },
  {
   "cell_type": "markdown",
   "metadata": {},
   "source": [
    "Now, we display the column names and first 5 rows of the dataset."
   ]
  },
  {
   "cell_type": "code",
   "execution_count": 3,
   "metadata": {
    "collapsed": false
   },
   "outputs": [
    {
     "name": "stdout",
     "output_type": "stream",
     "text": [
      "The column names are:  ['id', 'title', 'url', 'num_points', 'num_comments', 'author', 'created_at']\n",
      "\n",
      "\n",
      "['12224879', 'Interactive Dynamic Video', 'http://www.interactivedynamicvideo.com/', '386', '52', 'ne0phyte', '8/4/2016 11:52']\n",
      "\n",
      "\n",
      "['10975351', 'How to Use Open Source and Shut the Fuck Up at the Same Time', 'http://hueniverse.com/2016/01/26/how-to-use-open-source-and-shut-the-fuck-up-at-the-same-time/', '39', '10', 'josep2', '1/26/2016 19:30']\n",
      "\n",
      "\n",
      "['11964716', \"Florida DJs May Face Felony for April Fools' Water Joke\", 'http://www.thewire.com/entertainment/2013/04/florida-djs-april-fools-water-joke/63798/', '2', '1', 'vezycash', '6/23/2016 22:20']\n",
      "\n",
      "\n",
      "['11919867', 'Technology ventures: From Idea to Enterprise', 'https://www.amazon.com/Technology-Ventures-Enterprise-Thomas-Byers/dp/0073523429', '3', '1', 'hswarna', '6/17/2016 0:01']\n",
      "\n",
      "\n",
      "['10301696', 'Note by Note: The Making of Steinway L1037 (2007)', 'http://www.nytimes.com/2007/11/07/movies/07stein.html?_r=0', '8', '2', 'walterbell', '9/30/2015 4:12']\n",
      "\n",
      "\n"
     ]
    }
   ],
   "source": [
    "print(\"The column names are: \",header_hn)\n",
    "print(\"\\n\")\n",
    "for rows in hn[:5]:\n",
    "    print(rows)\n",
    "    print(\"\\n\")"
   ]
  },
  {
   "cell_type": "markdown",
   "metadata": {},
   "source": [
    "## Filtering our data"
   ]
  },
  {
   "cell_type": "markdown",
   "metadata": {
    "collapsed": true
   },
   "source": [
    "We will differentiate the posts according to:\n",
    "1. Posts with title **Ask Hn**\n",
    "2. Posts with **Show Hn**\n",
    "3. Other posts\n",
    "\n",
    "We will categorize them by analysing the **\"title\"** column.\n",
    "\n",
    "We will store these posts into three different lists :\n",
    "1. ask_posts\n",
    "2. show_posts\n",
    "3. other_posts"
   ]
  },
  {
   "cell_type": "code",
   "execution_count": 4,
   "metadata": {
    "collapsed": true
   },
   "outputs": [],
   "source": [
    "ask_posts=[]\n",
    "show_posts=[]\n",
    "other_posts=[]\n",
    "\n",
    "for row in hn:\n",
    "    title=row[1]\n",
    "    title=title.lower()\n",
    "    if \"ask hn\" in title:\n",
    "        ask_posts.append(row)\n",
    "    elif \"show hn\" in title:\n",
    "        show_posts.append(row)\n",
    "    else:\n",
    "        other_posts.append(row)"
   ]
  },
  {
   "cell_type": "code",
   "execution_count": 5,
   "metadata": {
    "collapsed": false
   },
   "outputs": [
    {
     "name": "stdout",
     "output_type": "stream",
     "text": [
      "1745\n",
      "1165\n",
      "17190\n"
     ]
    }
   ],
   "source": [
    "print(len(ask_posts))\n",
    "print(len(show_posts))\n",
    "print(len(other_posts))"
   ]
  },
  {
   "cell_type": "markdown",
   "metadata": {},
   "source": [
    "### Determining if ask posts or show posts receive more comments on average"
   ]
  },
  {
   "cell_type": "markdown",
   "metadata": {},
   "source": [
    "**\"num_comments\"** is at index= **4** which we are going to analyse."
   ]
  },
  {
   "cell_type": "code",
   "execution_count": 6,
   "metadata": {
    "collapsed": false
   },
   "outputs": [
    {
     "name": "stdout",
     "output_type": "stream",
     "text": [
      "Average comments in Ask Hn posts:  14.031518624641834\n",
      "Average comments in Show Hn posts:  10.302145922746782\n"
     ]
    }
   ],
   "source": [
    "total_ask_comments=0\n",
    "for row in ask_posts:\n",
    "    number= int(row[4])\n",
    "    total_ask_comments+=number\n",
    "    \n",
    "avg_ask_comments=(total_ask_comments)/len(ask_posts)\n",
    "print(\"Average comments in Ask Hn posts: \",avg_ask_comments)\n",
    "\n",
    "\n",
    "total_show_comments=0\n",
    "for row in show_posts:\n",
    "    number= int(row[4])\n",
    "    total_show_comments+=number\n",
    "    \n",
    "avg_show_comments=(total_show_comments)/len(show_posts)\n",
    "print(\"Average comments in Show Hn posts: \",avg_show_comments)\n",
    "\n",
    "    "
   ]
  },
  {
   "cell_type": "markdown",
   "metadata": {},
   "source": [
    "Looking into the findings we see that the **ask posts** have received  on an average **14** comments and **show posts** have received on an average **10** comments."
   ]
  },
  {
   "cell_type": "markdown",
   "metadata": {},
   "source": [
    "As ask posts are more likely to get comments we will analyse our further analysis on ask posts."
   ]
  },
  {
   "cell_type": "markdown",
   "metadata": {},
   "source": [
    "### Finding most suitable time for the posts to receive more comments"
   ]
  },
  {
   "cell_type": "markdown",
   "metadata": {},
   "source": [
    "In this case our desired column is **\"created_at\"** at index =**-1**.\n",
    "The time part in created_at column follows 24 hour format as found from the first five rows(19:30,22:20)"
   ]
  },
  {
   "cell_type": "code",
   "execution_count": 14,
   "metadata": {
    "collapsed": false
   },
   "outputs": [
    {
     "name": "stdout",
     "output_type": "stream",
     "text": [
      "2016-08-16 09:55:00\n",
      "09\n"
     ]
    }
   ],
   "source": [
    "date=str(ask_posts[0][-1])\n",
    "date=dt.datetime.strptime(date,\"%m/%d/%Y %H:%M\")\n",
    "print(date)\n",
    "print(dt.datetime.strftime(date,\"%H\"))"
   ]
  },
  {
   "cell_type": "code",
   "execution_count": 35,
   "metadata": {
    "collapsed": false
   },
   "outputs": [],
   "source": [
    "import datetime as dt\n",
    "result_list=[]\n",
    "for row in ask_posts:\n",
    "    time= row[-1]\n",
    "    comments= int(row[4])\n",
    "    result_list.append([time,comments])\n",
    "    \n",
    "counts_by_hour={}\n",
    "comments_by_hour={}\n",
    "\n",
    "for row in result_list:\n",
    "    num_comments=row[1]\n",
    "    date_time= str(row[0])\n",
    "    date_time=dt.datetime.strptime(date_time,\"%m/%d/%Y %H:%M\")\n",
    "    hour=dt.datetime.strftime(date_time,\"%H\")\n",
    "    if hour not in counts_by_hour:\n",
    "        counts_by_hour[hour]=1\n",
    "        comments_by_hour[hour]=num_comments\n",
    "    else:\n",
    "        counts_by_hour[hour]+=1\n",
    "        comments_by_hour[hour]+=num_comments\n",
    "        "
   ]
  },
  {
   "cell_type": "code",
   "execution_count": 36,
   "metadata": {
    "collapsed": false
   },
   "outputs": [
    {
     "name": "stdout",
     "output_type": "stream",
     "text": [
      "Ask posts by hour:  {'02': 58, '11': 58, '04': 47, '07': 34, '18': 109, '06': 44, '23': 69, '15': 116, '22': 71, '21': 109, '05': 46, '00': 55, '03': 54, '14': 107, '09': 45, '12': 73, '10': 59, '16': 108, '01': 60, '19': 110, '17': 100, '08': 48, '13': 85, '20': 80}\n",
      "\n",
      "\n",
      "Number of comments received by Ask post by hour of the post created {'02': 1381, '11': 641, '04': 337, '07': 267, '18': 1439, '06': 397, '23': 545, '15': 4477, '22': 479, '21': 1745, '05': 464, '00': 447, '03': 421, '14': 1416, '09': 251, '12': 687, '10': 793, '16': 1814, '01': 683, '19': 1188, '17': 1146, '08': 492, '13': 1253, '20': 1722}\n"
     ]
    }
   ],
   "source": [
    "print(\"Ask posts by hour: \",counts_by_hour)\n",
    "print(\"\\n\")\n",
    "print(\"Number of comments received by Ask post by hour of the post created\",comments_by_hour)\n"
   ]
  },
  {
   "cell_type": "markdown",
   "metadata": {},
   "source": [
    "### Average  per post for posts created during each hour of the day"
   ]
  },
  {
   "cell_type": "code",
   "execution_count": 19,
   "metadata": {
    "collapsed": false
   },
   "outputs": [],
   "source": [
    "avg_by_hour=[]\n",
    "for keys in counts_by_hour:\n",
    "    total_post=counts_by_hour[keys]\n",
    "    total_comments= comments_by_hour[keys]\n",
    "    avg_comment= total_comments/total_post\n",
    "    avg_by_hour.append([keys,avg_comment])\n",
    "\n",
    "avg_by_hour=sorted(avg_by_hour)"
   ]
  },
  {
   "cell_type": "code",
   "execution_count": 22,
   "metadata": {
    "collapsed": false
   },
   "outputs": [
    {
     "name": "stdout",
     "output_type": "stream",
     "text": [
      "[['00', 8.127272727272727], ['01', 11.383333333333333], ['02', 23.810344827586206], ['03', 7.796296296296297], ['04', 7.170212765957447], ['05', 10.08695652173913], ['06', 9.022727272727273], ['07', 7.852941176470588], ['08', 10.25], ['09', 5.5777777777777775], ['10', 13.440677966101696], ['11', 11.051724137931034], ['12', 9.41095890410959], ['13', 14.741176470588234], ['14', 13.233644859813085], ['15', 38.5948275862069], ['16', 16.796296296296298], ['17', 11.46], ['18', 13.20183486238532], ['19', 10.8], ['20', 21.525], ['21', 16.009174311926607], ['22', 6.746478873239437], ['23', 7.898550724637682]]\n"
     ]
    }
   ],
   "source": [
    "print(avg_by_hour)"
   ]
  },
  {
   "cell_type": "markdown",
   "metadata": {},
   "source": [
    "### Analyzing good time to time"
   ]
  },
  {
   "cell_type": "markdown",
   "metadata": {},
   "source": [
    "**created_at**: the date and time the post was made (the time zone is Eastern Time in the US)\n",
    "Indian Standard Time is 9 hours and 30 minutes ahead of Eastern Time.\n",
    "We will convert the time into IST then print it and analyze."
   ]
  },
  {
   "cell_type": "code",
   "execution_count": 30,
   "metadata": {
    "collapsed": false
   },
   "outputs": [
    {
     "name": "stdout",
     "output_type": "stream",
     "text": [
      "[[38.5948275862069, '15'], [23.810344827586206, '02'], [21.525, '20'], [16.796296296296298, '16'], [16.009174311926607, '21'], [14.741176470588234, '13'], [13.440677966101696, '10'], [13.233644859813085, '14'], [13.20183486238532, '18'], [11.46, '17'], [11.383333333333333, '01'], [11.051724137931034, '11'], [10.8, '19'], [10.25, '08'], [10.08695652173913, '05'], [9.41095890410959, '12'], [9.022727272727273, '06'], [8.127272727272727, '00'], [7.898550724637682, '23'], [7.852941176470588, '07'], [7.796296296296297, '03'], [7.170212765957447, '04'], [6.746478873239437, '22'], [5.5777777777777775, '09']]\n"
     ]
    }
   ],
   "source": [
    "swap_avg_by_hour=[]\n",
    "for rows in avg_by_hour:\n",
    "    swap_avg_by_hour.append([rows[1],rows[0]])\n",
    "sorted_swap=sorted(swap_avg_by_hour,reverse=True)\n",
    "print(sorted_swap)\n",
    "\n"
   ]
  },
  {
   "cell_type": "code",
   "execution_count": 32,
   "metadata": {
    "collapsed": false
   },
   "outputs": [
    {
     "name": "stdout",
     "output_type": "stream",
     "text": [
      "Top 5 Hours for Ask Posts Comments\n",
      "00:30: 38.59 average comments per post\n",
      "11:30: 23.81 average comments per post\n",
      "05:30: 21.52 average comments per post\n",
      "01:30: 16.80 average comments per post\n",
      "06:30: 16.01 average comments per post\n"
     ]
    }
   ],
   "source": [
    "print(\"Top 5 Hours for Ask Posts Comments\")\n",
    "for row in sorted_swap[:5]:\n",
    "    time=str(row[1])\n",
    "    time_hour=dt.datetime.strptime(time,\"%H\")\n",
    "    time_gap=dt.timedelta(hours=9,minutes=30)\n",
    "    IST_time=time_hour+time_gap\n",
    "    hour_time=dt.datetime.strftime(IST_time,\"%H:%M\")\n",
    "    print(\"{}: {:.2f} average comments per post\".format(hour_time,row[0]))\n",
    "    \n",
    "    "
   ]
  },
  {
   "cell_type": "markdown",
   "metadata": {},
   "source": [
    "The time is in **24 hour format**.\n",
    "\n",
    "Looking at the average comments per post in _Ask Hn_ we find that the posts which received the most comments were created at times **00:30 am**,**11:30 am**, **05:30 am**,**01:30 am**,**06:30 am**.\n",
    " That is mostly during the late night (12 am) to early morning (06:30 am). So this time interval is best for creating an **Ask Hn** post on **Hacker News** platform."
   ]
  },
  {
   "cell_type": "code",
   "execution_count": 45,
   "metadata": {
    "collapsed": false
   },
   "outputs": [
    {
     "name": "stdout",
     "output_type": "stream",
     "text": [
      "00:00\n"
     ]
    }
   ],
   "source": [
    "x=\"14:30\"\n",
    "time_hour=dt.datetime.strptime(x,\"%H:%M\")\n",
    "t=time_hour + dt.timedelta(hours=9,minutes=30)\n",
    "print(dt.datetime.strftime(t,\"%H:%M\"))"
   ]
  }
 ],
 "metadata": {
  "kernelspec": {
   "display_name": "Python 3",
   "language": "python",
   "name": "python3"
  },
  "language_info": {
   "codemirror_mode": {
    "name": "ipython",
    "version": 3
   },
   "file_extension": ".py",
   "mimetype": "text/x-python",
   "name": "python",
   "nbconvert_exporter": "python",
   "pygments_lexer": "ipython3",
   "version": "3.4.3"
  }
 },
 "nbformat": 4,
 "nbformat_minor": 2
}
